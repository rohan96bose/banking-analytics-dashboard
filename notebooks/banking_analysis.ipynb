{
 "cells": [
  {
   "cell_type": "code",
   "execution_count": null,
   "id": "c406611f",
   "metadata": {
    "vscode": {
     "languageId": "plaintext"
    }
   },
   "outputs": [],
   "source": [
    "\"\"\"\n",
    "Banking Analytics Dashboard - Data Analysis Notebook\n",
    "Author: Your Name\n",
    "Date: YYYY-MM-DD\n",
    "\n",
    "Objective:\n",
    "- Perform data cleaning & preprocessing\n",
    "- Create new features for analysis\n",
    "- Conduct exploratory data analysis (EDA)\n",
    "- Prepare clean dataset for Power BI dashboard\n",
    "\"\"\""
   ]
  },
  {
   "cell_type": "code",
   "execution_count": null,
   "id": "a6f4e3ae",
   "metadata": {
    "vscode": {
     "languageId": "plaintext"
    }
   },
   "outputs": [],
   "source": [
    "import pandas as pd\n",
    "import numpy as np\n",
    "import matplotlib.pyplot as plt\n",
    "import seaborn as sns\n",
    "\n",
    "# Load dataset\n",
    "df = pd.read_excel(\"D:\\data analytics\\banking-analytics-dashboard\\data\")\n",
    "df.head()\n"
   ]
  },
  {
   "cell_type": "code",
   "execution_count": null,
   "id": "655d826a",
   "metadata": {
    "vscode": {
     "languageId": "plaintext"
    }
   },
   "outputs": [],
   "source": [
    "# Handle missing values\n",
    "df.fillna(0, inplace=True)\n",
    "\n",
    "# Convert date column\n",
    "df['Joined Bank'] = pd.to_datetime(df['Joined Bank'], format='%d-%m-%Y')\n",
    "\n",
    "# Create Income Band\n",
    "bins = [0, 100000, 300000, float('inf')]\n",
    "labels = ['Low', 'Mid', 'High']\n",
    "df['Income Band'] = pd.cut(df['Estimated Income'], bins=bins, labels=labels, include_lowest=True)\n",
    "\n",
    "# Create Age Band\n",
    "def age_band(age):\n",
    "    if age >= 18 and age <= 30:\n",
    "        return \"18-30\"\n",
    "    elif age <= 45:\n",
    "        return \"31-45\"\n",
    "    elif age <= 60:\n",
    "        return \"46-60\"\n",
    "    else:\n",
    "        return \"60+\"\n",
    "\n",
    "df['Age Band'] = df['Age'].apply(age_band)\n",
    "\n",
    "df.head()\n"
   ]
  },
  {
   "cell_type": "code",
   "execution_count": null,
   "id": "1871adda",
   "metadata": {
    "vscode": {
     "languageId": "plaintext"
    }
   },
   "outputs": [],
   "source": [
    "# Distribution of Age\n",
    "plt.figure(figsize=(8,5))\n",
    "sns.histplot(df['Age'], bins=20, kde=True)\n",
    "plt.title('Age Distribution')\n",
    "plt.show()\n",
    "\n",
    "# Loan by Occupation\n",
    "plt.figure(figsize=(10,6))\n",
    "sns.barplot(data=df, x='Occupation', y='Bank Loans', estimator=sum)\n",
    "plt.xticks(rotation=45)\n",
    "plt.title('Total Loan by Occupation')\n",
    "plt.show()\n",
    "\n",
    "# Correlation Matrix\n",
    "numerical_cols = ['Age','Estimated Income','Credit Card Balance','Bank Loans','Bank Deposits']\n",
    "corr = df[numerical_cols].corr()\n",
    "plt.figure(figsize=(8,6))\n",
    "sns.heatmap(corr, annot=True, cmap='coolwarm')\n",
    "plt.title('Correlation Matrix')\n",
    "plt.show()\n"
   ]
  },
  {
   "cell_type": "code",
   "execution_count": null,
   "id": "b40ab02b",
   "metadata": {
    "vscode": {
     "languageId": "plaintext"
    }
   },
   "outputs": [],
   "source": [
    "df.to_csv(\"../data/banking_clean.csv\", index=False)\n",
    "print(\"Clean dataset exported successfully.\")\n"
   ]
  },
  {
   "cell_type": "code",
   "execution_count": null,
   "id": "3d12b411",
   "metadata": {
    "vscode": {
     "languageId": "plaintext"
    }
   },
   "outputs": [],
   "source": [
    "\"\"\"\n",
    "Key Findings:\n",
    "- High-income clients hold most bank deposits and loans.\n",
    "- Age 31–45 group has the highest average deposits.\n",
    "- Loyalty classification strongly correlates with deposits.\n",
    "- Foreign currency accounts are most popular among high-income clients.\n",
    "\n",
    "Next Step:\n",
    "- Visualize these insights interactively in Power BI.\n",
    "\"\"\"\n"
   ]
  }
 ],
 "metadata": {
  "language_info": {
   "name": "python"
  }
 },
 "nbformat": 4,
 "nbformat_minor": 5
}
